{
 "cells": [
  {
   "cell_type": "code",
   "execution_count": 37,
   "metadata": {},
   "outputs": [],
   "source": [
    "import pandas as pd"
   ]
  },
  {
   "cell_type": "markdown",
   "metadata": {},
   "source": [
    "# Taking Input from User (NFA)"
   ]
  },
  {
   "cell_type": "markdown",
   "metadata": {},
   "source": [
    "Creating NFA dictionary"
   ]
  },
  {
   "cell_type": "code",
   "execution_count": 38,
   "metadata": {},
   "outputs": [],
   "source": [
    "nfa_dict = {}"
   ]
  },
  {
   "cell_type": "code",
   "execution_count": 39,
   "metadata": {},
   "outputs": [],
   "source": [
    "n_states = int(input(\"Enter Number of States : \"))           # Total States\n",
    "transitions = int(input(\"Enter Number of Transitions : \"))      # Total paths"
   ]
  },
  {
   "cell_type": "code",
   "execution_count": 40,
   "metadata": {},
   "outputs": [
    {
     "name": "stdout",
     "output_type": "stream",
     "text": [
      "End State from state A travelling through path a : \n",
      "End State from state A travelling through path b : \n",
      "End State from state B travelling through path a : \n",
      "End State from state B travelling through path b : \n",
      "End State from state C travelling through path a : \n",
      "End State from state C travelling through path b : \n",
      "End State from state D travelling through path a : \n",
      "End State from state D travelling through path b : \n"
     ]
    }
   ],
   "source": [
    "for i in range(n_states):\n",
    "    state = input('Enter State Name: ')       # 0,1,2 ...\n",
    "    nfa_dict[state]  = {}                    # dictionary for every specific state\n",
    "    for j in range(transitions):\n",
    "        path = input('Path: ')          # path names (eps, a, b...)\n",
    "        print(f'End State from state {state} travelling through path {path} : ')\n",
    "        reaching_state = [x for x in input().split()]\n",
    "        nfa_dict[state][path] = reaching_state"
   ]
  },
  {
   "cell_type": "code",
   "execution_count": 41,
   "metadata": {},
   "outputs": [
    {
     "name": "stdout",
     "output_type": "stream",
     "text": [
      "NFA : \n",
      "\n"
     ]
    },
    {
     "data": {
      "text/plain": [
       "{'A': {'a': ['A', 'B'], 'b': ['A']},\n",
       " 'B': {'a': ['C'], 'b': ['C']},\n",
       " 'C': {'a': ['D'], 'b': ['D']},\n",
       " 'D': {'a': [], 'b': []}}"
      ]
     },
     "execution_count": 41,
     "metadata": {},
     "output_type": "execute_result"
    }
   ],
   "source": [
    "print('NFA : \\n')\n",
    "nfa_dict"
   ]
  },
  {
   "cell_type": "markdown",
   "metadata": {},
   "source": [
    "# Printing NFA Table "
   ]
  },
  {
   "cell_type": "code",
   "execution_count": 42,
   "metadata": {},
   "outputs": [
    {
     "data": {
      "text/plain": [
       "{'A': {'a': ['A', 'B'], 'b': ['A']},\n",
       " 'B': {'a': ['C'], 'b': ['C']},\n",
       " 'C': {'a': ['D'], 'b': ['D']},\n",
       " 'D': {'a': [], 'b': []}}"
      ]
     },
     "execution_count": 42,
     "metadata": {},
     "output_type": "execute_result"
    }
   ],
   "source": [
    "nfa_dict"
   ]
  },
  {
   "cell_type": "code",
   "execution_count": 43,
   "metadata": {},
   "outputs": [
    {
     "name": "stdout",
     "output_type": "stream",
     "text": [
      "NFA Table : \n",
      "\n"
     ]
    },
    {
     "data": {
      "text/html": [
       "<div>\n",
       "<style scoped>\n",
       "    .dataframe tbody tr th:only-of-type {\n",
       "        vertical-align: middle;\n",
       "    }\n",
       "\n",
       "    .dataframe tbody tr th {\n",
       "        vertical-align: top;\n",
       "    }\n",
       "\n",
       "    .dataframe thead th {\n",
       "        text-align: right;\n",
       "    }\n",
       "</style>\n",
       "<table border=\"1\" class=\"dataframe\">\n",
       "  <thead>\n",
       "    <tr style=\"text-align: right;\">\n",
       "      <th></th>\n",
       "      <th>a</th>\n",
       "      <th>b</th>\n",
       "    </tr>\n",
       "  </thead>\n",
       "  <tbody>\n",
       "    <tr>\n",
       "      <th>A</th>\n",
       "      <td>[A, B]</td>\n",
       "      <td>[A]</td>\n",
       "    </tr>\n",
       "    <tr>\n",
       "      <th>B</th>\n",
       "      <td>[C]</td>\n",
       "      <td>[C]</td>\n",
       "    </tr>\n",
       "    <tr>\n",
       "      <th>C</th>\n",
       "      <td>[D]</td>\n",
       "      <td>[D]</td>\n",
       "    </tr>\n",
       "    <tr>\n",
       "      <th>D</th>\n",
       "      <td>[]</td>\n",
       "      <td>[]</td>\n",
       "    </tr>\n",
       "  </tbody>\n",
       "</table>\n",
       "</div>"
      ],
      "text/plain": [
       "        a    b\n",
       "A  [A, B]  [A]\n",
       "B     [C]  [C]\n",
       "C     [D]  [D]\n",
       "D      []   []"
      ]
     },
     "execution_count": 43,
     "metadata": {},
     "output_type": "execute_result"
    }
   ],
   "source": [
    "print('NFA Table : \\n')\n",
    "nfa_table = pd.DataFrame(nfa_dict)\n",
    "nfa_table.transpose()"
   ]
  },
  {
   "cell_type": "markdown",
   "metadata": {},
   "source": [
    "### Taking the Final State"
   ]
  },
  {
   "cell_type": "code",
   "execution_count": 44,
   "metadata": {},
   "outputs": [
    {
     "name": "stdout",
     "output_type": "stream",
     "text": [
      "Enter Final State of NFA: \n"
     ]
    }
   ],
   "source": [
    "print('Enter Final State of NFA: ')\n",
    "nfa_final_state = [x for x in input().split()]"
   ]
  },
  {
   "cell_type": "markdown",
   "metadata": {},
   "source": [
    "# Creating DFA"
   ]
  },
  {
   "cell_type": "markdown",
   "metadata": {},
   "source": [
    "Creating DFA dictionary"
   ]
  },
  {
   "cell_type": "code",
   "execution_count": 45,
   "metadata": {},
   "outputs": [],
   "source": [
    "new_states_list = []           # holds new states created in DFA (A, B ...)\n",
    "dfa_dict = {}\n",
    "\n",
    "keys_list = list(list(nfa_dict.keys())[0])                       # holds all states in nfa plus states created in dfa (appended later)\n",
    "paths_list = list(list(nfa_dict[keys_list[0]].keys()))           # holds all path names"
   ]
  },
  {
   "cell_type": "code",
   "execution_count": 46,
   "metadata": {},
   "outputs": [
    {
     "name": "stdout",
     "output_type": "stream",
     "text": [
      "['A']\n"
     ]
    },
    {
     "data": {
      "text/plain": [
       "['a', 'b']"
      ]
     },
     "execution_count": 46,
     "metadata": {},
     "output_type": "execute_result"
    }
   ],
   "source": [
    "print(keys_list)\n",
    "paths_list"
   ]
  },
  {
   "cell_type": "markdown",
   "metadata": {},
   "source": [
    "### Computing first row of DFA Transition Table"
   ]
  },
  {
   "cell_type": "code",
   "execution_count": 47,
   "metadata": {},
   "outputs": [],
   "source": [
    "dfa_dict[keys_list[0]] = {}\n",
    "\n",
    "for y in range(transitions):\n",
    "    new_state = \"\".join(nfa_dict[keys_list[0]][paths_list[y]])     # creating a single string from all elements of list which is a new state\n",
    "    dfa_dict[keys_list[0]][paths_list[y]] = new_state              # assigning state in DFA Table\n",
    "    if new_state not in keys_list:                            # if the state created is new\n",
    "        new_states_list.append(new_state)                     \n",
    "        keys_list.append(new_state)                           "
   ]
  },
  {
   "cell_type": "code",
   "execution_count": 48,
   "metadata": {},
   "outputs": [
    {
     "data": {
      "text/plain": [
       "{'A': {'a': 'AB', 'b': 'A'}}"
      ]
     },
     "execution_count": 48,
     "metadata": {},
     "output_type": "execute_result"
    }
   ],
   "source": [
    "dfa_dict"
   ]
  },
  {
   "cell_type": "markdown",
   "metadata": {},
   "source": [
    "### Computing other rows of DFA Transition Table"
   ]
  },
  {
   "cell_type": "code",
   "execution_count": 49,
   "metadata": {},
   "outputs": [
    {
     "data": {
      "text/plain": [
       "['AB']"
      ]
     },
     "execution_count": 49,
     "metadata": {},
     "output_type": "execute_result"
    }
   ],
   "source": [
    "new_states_list"
   ]
  },
  {
   "cell_type": "code",
   "execution_count": 50,
   "metadata": {},
   "outputs": [],
   "source": [
    "while len(new_states_list) != 0:        \n",
    "    dfa_dict[new_states_list[0]] = {}        # taking first element and analysing\n",
    "\n",
    "    for _ in range(len(new_states_list[0])):\n",
    "        for i in range(len(paths_list)):\n",
    "            temp = []                   # temporary list\n",
    "            for j in range(len(new_states_list[0])):\n",
    "                temp += nfa_dict[new_states_list[0][j]][paths_list[i]]    # taking union of states\n",
    "            union_state=\"\"\n",
    "            union_state=union_state.join(temp)         # creating a single string from all elements of the list\n",
    "            if union_state not in keys_list:  \n",
    "                new_states_list.append(union_state)\n",
    "                keys_list.append(union_state)\n",
    "            dfa_dict[new_states_list[0]][paths_list[i]] = union_state       \n",
    "    new_states_list.remove(new_states_list[0]) "
   ]
  },
  {
   "cell_type": "markdown",
   "metadata": {},
   "source": [
    "# Printing DFA and DFA Table"
   ]
  },
  {
   "cell_type": "code",
   "execution_count": 51,
   "metadata": {},
   "outputs": [
    {
     "name": "stdout",
     "output_type": "stream",
     "text": [
      "\n",
      "DFA: - \n",
      "\n"
     ]
    },
    {
     "data": {
      "text/plain": [
       "{'A': {'a': 'AB', 'b': 'A'},\n",
       " 'AB': {'a': 'ABC', 'b': 'AC'},\n",
       " 'ABC': {'a': 'ABCD', 'b': 'ACD'},\n",
       " 'AC': {'a': 'ABD', 'b': 'AD'},\n",
       " 'ABCD': {'a': 'ABCD', 'b': 'ACD'},\n",
       " 'ACD': {'a': 'ABD', 'b': 'AD'},\n",
       " 'ABD': {'a': 'ABC', 'b': 'AC'},\n",
       " 'AD': {'a': 'AB', 'b': 'A'}}"
      ]
     },
     "execution_count": 51,
     "metadata": {},
     "output_type": "execute_result"
    }
   ],
   "source": [
    "print('\\nDFA: - \\n')\n",
    "dfa_dict"
   ]
  },
  {
   "cell_type": "code",
   "execution_count": 52,
   "metadata": {},
   "outputs": [
    {
     "name": "stdout",
     "output_type": "stream",
     "text": [
      "\n",
      "Printing DFA Table:  \n"
     ]
    },
    {
     "data": {
      "text/html": [
       "<div>\n",
       "<style scoped>\n",
       "    .dataframe tbody tr th:only-of-type {\n",
       "        vertical-align: middle;\n",
       "    }\n",
       "\n",
       "    .dataframe tbody tr th {\n",
       "        vertical-align: top;\n",
       "    }\n",
       "\n",
       "    .dataframe thead th {\n",
       "        text-align: right;\n",
       "    }\n",
       "</style>\n",
       "<table border=\"1\" class=\"dataframe\">\n",
       "  <thead>\n",
       "    <tr style=\"text-align: right;\">\n",
       "      <th></th>\n",
       "      <th>a</th>\n",
       "      <th>b</th>\n",
       "    </tr>\n",
       "  </thead>\n",
       "  <tbody>\n",
       "    <tr>\n",
       "      <th>A</th>\n",
       "      <td>AB</td>\n",
       "      <td>A</td>\n",
       "    </tr>\n",
       "    <tr>\n",
       "      <th>AB</th>\n",
       "      <td>ABC</td>\n",
       "      <td>AC</td>\n",
       "    </tr>\n",
       "    <tr>\n",
       "      <th>ABC</th>\n",
       "      <td>ABCD</td>\n",
       "      <td>ACD</td>\n",
       "    </tr>\n",
       "    <tr>\n",
       "      <th>AC</th>\n",
       "      <td>ABD</td>\n",
       "      <td>AD</td>\n",
       "    </tr>\n",
       "    <tr>\n",
       "      <th>ABCD</th>\n",
       "      <td>ABCD</td>\n",
       "      <td>ACD</td>\n",
       "    </tr>\n",
       "    <tr>\n",
       "      <th>ACD</th>\n",
       "      <td>ABD</td>\n",
       "      <td>AD</td>\n",
       "    </tr>\n",
       "    <tr>\n",
       "      <th>ABD</th>\n",
       "      <td>ABC</td>\n",
       "      <td>AC</td>\n",
       "    </tr>\n",
       "    <tr>\n",
       "      <th>AD</th>\n",
       "      <td>AB</td>\n",
       "      <td>A</td>\n",
       "    </tr>\n",
       "  </tbody>\n",
       "</table>\n",
       "</div>"
      ],
      "text/plain": [
       "         a    b\n",
       "A       AB    A\n",
       "AB     ABC   AC\n",
       "ABC   ABCD  ACD\n",
       "AC     ABD   AD\n",
       "ABCD  ABCD  ACD\n",
       "ACD    ABD   AD\n",
       "ABD    ABC   AC\n",
       "AD      AB    A"
      ]
     },
     "execution_count": 52,
     "metadata": {},
     "output_type": "execute_result"
    }
   ],
   "source": [
    "print('\\nPrinting DFA Table:  ')\n",
    "dfa_table = pd.DataFrame(dfa_dict)\n",
    "dfa_table.transpose()"
   ]
  },
  {
   "cell_type": "markdown",
   "metadata": {},
   "source": [
    "# Final State(s) of DFA"
   ]
  },
  {
   "cell_type": "code",
   "execution_count": 53,
   "metadata": {},
   "outputs": [
    {
     "name": "stdout",
     "output_type": "stream",
     "text": [
      "\n",
      "Final States of DFA are:   ['ABCD', 'ACD', 'ABD', 'AD']\n"
     ]
    }
   ],
   "source": [
    "dfa_states_list = list(dfa_dict.keys()) \n",
    "dfa_final_states = []\n",
    "\n",
    "for x in dfa_states_list:\n",
    "    for i in x:\n",
    "        if i in nfa_final_state:\n",
    "            dfa_final_states.append(x)\n",
    "            break\n",
    "\n",
    "print('\\nFinal States of DFA are:  ', dfa_final_states)        "
   ]
  }
 ],
 "metadata": {
  "kernelspec": {
   "display_name": "Python 3.10.2 64-bit",
   "language": "python",
   "name": "python3"
  },
  "language_info": {
   "codemirror_mode": {
    "name": "ipython",
    "version": 3
   },
   "file_extension": ".py",
   "mimetype": "text/x-python",
   "name": "python",
   "nbconvert_exporter": "python",
   "pygments_lexer": "ipython3",
   "version": "3.10.2"
  },
  "orig_nbformat": 4,
  "vscode": {
   "interpreter": {
    "hash": "369f2c481f4da34e4445cda3fffd2e751bd1c4d706f27375911949ba6bb62e1c"
   }
  }
 },
 "nbformat": 4,
 "nbformat_minor": 2
}
